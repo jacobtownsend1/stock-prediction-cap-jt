{
 "cells": [
  {
   "cell_type": "code",
   "execution_count": 45,
   "id": "92031270",
   "metadata": {},
   "outputs": [],
   "source": [
    "# Stock Market Prediciton Bot\n",
    "# Version 1.0\n",
    "# Developed by Jacob Townsend\n",
    "# 04-20-2022"
   ]
  },
  {
   "cell_type": "code",
   "execution_count": null,
   "id": "17b0e828",
   "metadata": {},
   "outputs": [],
   "source": [
    "import numpy as np\n",
    "import pandas as pd\n",
    "import ipywidgets as widgets\n",
    "import yfinance as yf\n",
    "from sklearn.tree import DecisionTreeRegressor\n",
    "from sklearn.model_selection import train_test_split\n",
    "from sklearn.metrics import accuracy_score\n",
    "import matplotlib.pyplot as plt\n",
    "import warnings\n",
    "warnings.filterwarnings('ignore')\n",
    "plt.style.use('bmh')"
   ]
  },
  {
   "cell_type": "code",
   "execution_count": 55,
   "id": "aa68f9f2",
   "metadata": {},
   "outputs": [
    {
     "name": "stdout",
     "output_type": "stream",
     "text": [
      "Welcome to the stock predictor!\n",
      "Just input any stock or cryptocurrecny ticker and click 'Go!'\n"
     ]
    },
    {
     "data": {
      "application/vnd.jupyter.widget-view+json": {
       "model_id": "d06ac791f7bf4b78baa0ae23a106e352",
       "version_major": 2,
       "version_minor": 0
      },
      "text/plain": [
       "Text(value='AMZN')"
      ]
     },
     "metadata": {},
     "output_type": "display_data"
    },
    {
     "data": {
      "application/vnd.jupyter.widget-view+json": {
       "model_id": "7d021fe8a95744d3a94f486bec86eb13",
       "version_major": 2,
       "version_minor": 0
      },
      "text/plain": [
       "Button(description='Go!', style=ButtonStyle())"
      ]
     },
     "metadata": {},
     "output_type": "display_data"
    },
    {
     "data": {
      "application/vnd.jupyter.widget-view+json": {
       "model_id": "df8e022c4da04dd58b471a9f39507750",
       "version_major": 2,
       "version_minor": 0
      },
      "text/plain": [
       "Output()"
      ]
     },
     "metadata": {},
     "output_type": "display_data"
    }
   ],
   "source": [
    "def btn_eventhandler(obj):\n",
    "    with outs:\n",
    "        # Start by clearing our output just in case this isn't the first time the button was clicked\n",
    "        outs.clear_output()\n",
    "        \n",
    "        # Try to look up the user-provided ticker, print an error and return if there's a problem\n",
    "        # If we find the ticker, download it's pricing data and store it in a dataframe\n",
    "        title = userin.value\n",
    "        df=None\n",
    "        try:\n",
    "            print('Downloading ticker...')\n",
    "            df = yf.download(title)\n",
    "        except:\n",
    "            print('Please try looking up a different ticker')\n",
    "            return\n",
    "        \n",
    "        # Here we will print our first data visual, a table of the values we will be analyzing\n",
    "        display(df)\n",
    "\n",
    "        \n",
    "        #Now we will modify our dataframe and drop any data points we don't need\n",
    "        df = df[['Close']]\n",
    "        future_days = 25\n",
    "        df['Prediction'] = df[['Close']].shift(-future_days)\n",
    "        X = np.array(df.drop(['Prediction'], 1))[:-future_days]\n",
    "        y = np.array(df['Prediction'])[:-future_days]\n",
    "\n",
    "        #Now we can split our data into training and testing groups and train the model\n",
    "        x_train, x_test, y_train, y_test = train_test_split(X, y, test_size = 0.2)\n",
    "        tree = DecisionTreeRegressor().fit(x_train, y_train)\n",
    "        \n",
    "        #Here we are modifying our input and running our model\n",
    "        x_future = df.drop(['Prediction'], 1)[:-future_days]\n",
    "        x_future = x_future.tail(future_days) \n",
    "        x_future = np.array(x_future)\n",
    "        predictions = tree.predict(x_future)\n",
    "\n",
    "    \n",
    "        #Print data points we can use to evaluate the accuracy of our model...\n",
    "        print(\"Our model r2 score (coefficient of determination) is: \", (tree.score(x_test, y_test)))\n",
    "    \n",
    "        #create a scatter plot of our predictions\n",
    "        plt.figure(figsize=(16,8))\n",
    "        plt.xlabel('Time',fontsize=18)\n",
    "        plt.ylabel('Predicted Close Price ($USD)',fontsize=18)\n",
    "        plt.scatter(df.index.values[-25:], predictions[-25:])\n",
    "        plt.title(title + ' - Scatter plot of predictions')\n",
    "        plt.show()\n",
    "        \n",
    "        #creat a line graph of our results\n",
    "        valid =  df[X.shape[0]:]\n",
    "        valid['Predictions'] = predictions\n",
    "        plt.figure(figsize=(16,8))\n",
    "        plt.title(title + ' - Predictions')\n",
    "        plt.xlabel('Time',fontsize=18)\n",
    "        plt.ylabel('Close Price ($USD)',fontsize=18)\n",
    "        plt.plot(df['Close'])\n",
    "        plt.plot(valid[['Close','Predictions']])\n",
    "        plt.legend(['Value', 'Actual Close', 'Prediction' ], loc='lower right')\n",
    "        plt.show()\n",
    "\n",
    "        \n",
    "        \n",
    "#Creating and displaying widgets we will use in our dashboard\n",
    "sub = widgets.Button(description='Go!')\n",
    "userin = widgets.Text(value='AMZN')\n",
    "sub.on_click(btn_eventhandler)\n",
    "outs = widgets.Output()\n",
    "    \n",
    "print(\"Welcome to the stock predictor!\")\n",
    "print(\"Just input any stock or cryptocurrecny ticker and click 'Go!'\")\n",
    "display(userin)\n",
    "display(sub)\n",
    "display(outs)\n",
    "\n"
   ]
  },
  {
   "cell_type": "code",
   "execution_count": null,
   "id": "e4ed956d",
   "metadata": {},
   "outputs": [],
   "source": []
  }
 ],
 "metadata": {
  "kernelspec": {
   "display_name": "Python 3 (ipykernel)",
   "language": "python",
   "name": "python3"
  },
  "language_info": {
   "codemirror_mode": {
    "name": "ipython",
    "version": 3
   },
   "file_extension": ".py",
   "mimetype": "text/x-python",
   "name": "python",
   "nbconvert_exporter": "python",
   "pygments_lexer": "ipython3",
   "version": "3.9.7"
  }
 },
 "nbformat": 4,
 "nbformat_minor": 5
}
